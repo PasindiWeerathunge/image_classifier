{
  "nbformat": 4,
  "nbformat_minor": 0,
  "metadata": {
    "colab": {
      "provenance": [],
      "gpuType": "T4",
      "authorship_tag": "ABX9TyPiOQ/+5L0+9tYw2rjzFx1r",
      "include_colab_link": true
    },
    "kernelspec": {
      "name": "python3",
      "display_name": "Python 3"
    },
    "language_info": {
      "name": "python"
    },
    "accelerator": "GPU"
  },
  "cells": [
    {
      "cell_type": "markdown",
      "metadata": {
        "id": "view-in-github",
        "colab_type": "text"
      },
      "source": [
        "<a href=\"https://colab.research.google.com/github/PasindiWeerathunge/image_classifier/blob/main/image_classifier(cat_dog).ipynb\" target=\"_parent\"><img src=\"https://colab.research.google.com/assets/colab-badge.svg\" alt=\"Open In Colab\"/></a>"
      ]
    },
    {
      "cell_type": "markdown",
      "source": [
        "###Import Libraries"
      ],
      "metadata": {
        "id": "OJRAcDEteJOp"
      }
    },
    {
      "cell_type": "code",
      "source": [
        "!pip install opendatasets -q"
      ],
      "metadata": {
        "id": "PJWSjCr3eMFC"
      },
      "execution_count": 4,
      "outputs": []
    },
    {
      "cell_type": "code",
      "source": [
        "import numpy as np\n",
        "import tensorflow as tf\n",
        "import matplotlib.pyplot as plt\n",
        "import time\n",
        "\n",
        "import opendatasets as od"
      ],
      "metadata": {
        "id": "j_N0-otLeNVx"
      },
      "execution_count": 5,
      "outputs": []
    }
  ]
}